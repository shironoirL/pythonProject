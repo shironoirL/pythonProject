{
  "nbformat": 4,
  "nbformat_minor": 0,
  "metadata": {
    "colab": {
      "provenance": [],
      "collapsed_sections": [],
      "authorship_tag": "ABX9TyNOf+nVd5+H/8UHQSre7wNw",
      "include_colab_link": true
    },
    "kernelspec": {
      "name": "python3",
      "display_name": "Python 3"
    },
    "language_info": {
      "name": "python"
    }
  },
  "cells": [
    {
      "cell_type": "markdown",
      "metadata": {
        "id": "view-in-github",
        "colab_type": "text"
      },
      "source": [
        "<a href=\"https://colab.research.google.com/github/shironoirL/pythonProject/blob/master/ludik.ipynb\" target=\"_parent\"><img src=\"https://colab.research.google.com/assets/colab-badge.svg\" alt=\"Open In Colab\"/></a>"
      ]
    },
    {
      "cell_type": "code",
      "source": [
        "import numpy as np\n",
        "import pandas as pd\n",
        "import matplotlib.pyplot as plt\n",
        "import seaborn as sns\n",
        "pd.set_option('display.max_colwidth', None)  # or 199\n",
        "pd.options.mode.chained_assignment = None\n",
        "%matplotlib inline"
      ],
      "metadata": {
        "id": "7dsJV6AxDjqp"
      },
      "execution_count": 185,
      "outputs": []
    },
    {
      "cell_type": "code",
      "source": [
        "from google.colab import drive\n",
        "drive.mount ('/content/drive') "
      ],
      "metadata": {
        "colab": {
          "base_uri": "https://localhost:8080/"
        },
        "id": "_mCEYeePDkHo",
        "outputId": "9d705a44-9094-4758-a463-3d2007756aa4"
      },
      "execution_count": 186,
      "outputs": [
        {
          "output_type": "stream",
          "name": "stdout",
          "text": [
            "Drive already mounted at /content/drive; to attempt to forcibly remount, call drive.mount(\"/content/drive\", force_remount=True).\n"
          ]
        }
      ]
    },
    {
      "cell_type": "code",
      "source": [
        "data = pd.read_json('/content/drive/MyDrive/csvs/bets.json')"
      ],
      "metadata": {
        "id": "on_Vgk32DnCp"
      },
      "execution_count": 187,
      "outputs": []
    },
    {
      "cell_type": "code",
      "source": [
        "\n",
        "data.head()"
      ],
      "metadata": {
        "colab": {
          "base_uri": "https://localhost:8080/",
          "height": 1000
        },
        "id": "Dxs0XGb6EKZ_",
        "outputId": "e7468087-b358-4b7c-af91-e93314bf8802"
      },
      "execution_count": 188,
      "outputs": [
        {
          "output_type": "execute_result",
          "data": {
            "text/plain": [
              "     bet_id balance_type balance_type_win  \\\n",
              "0    914550        money            money   \n",
              "1   1548239        money            money   \n",
              "2   5273333        money            money   \n",
              "3   8766575        money            money   \n",
              "4  22135807        money            money   \n",
              "\n",
              "                                bet_uid  bet_sum  bet_win  bet_win_real  \\\n",
              "0                                  None      200      0.0           0.0   \n",
              "1                                  None       50      0.0           0.0   \n",
              "2  18d07faf-7f09-443e-bf74-794c4476e69d     5000   6750.0        6750.0   \n",
              "3  9b73e806-fda1-4af6-828c-896ca1da9a04    10000      0.0           0.0   \n",
              "4  a703a468-1257-47ef-adfb-3eef3fc2af81      800      0.0           0.0   \n",
              "\n",
              "               create_dttm  game_kind  \\\n",
              "0  2022-09-09T11:29:41.377         14   \n",
              "1  2022-09-10T00:16:33.813          6   \n",
              "2  2022-09-07T09:52:58.911          2   \n",
              "3  2022-10-16T12:43:52.205          2   \n",
              "4  2022-10-16T04:05:35.951          2   \n",
              "\n",
              "                                                                key  \\\n",
              "0  5c526d69bfab67189412ceded36c2842334fb2a1da8f1d54d4fed4eaf9ccfb4a   \n",
              "1  55840b5f98d4bf47c6fb0e273cdbc1fd203758b6e206baa962dcaedecf409950   \n",
              "2  a61111a1f96b7a3f2134757200f7d74ccde8fdb3e528849d3a7bd4c5929e00e5   \n",
              "3  00ae8fc66fa2a042316dbd8b846d6d63c93f5fe2dac016c5a3805674404538aa   \n",
              "4  14fdaf967e1a6ddbd89cbbe3e9ad47ed5c543bad6217216e65d169e8162c3196   \n",
              "\n",
              "                                                                                                                                                                                                                                                                                                                                                                                                                                                                                                                                                                                                                             other  \\\n",
              "0                                                                                                                                                                                                                                                                                                                                                                                                                                                                                                     {'Id': 169, 'coeff': None, 'bet_type': None, 'outcomes': [], 'insurance_id': 0, 'insurance_sum': 0, 'events_to_guess': None}   \n",
              "1                                                                                                                                                                                                                                                                                                                                                                                                                                                                                                     {'Id': 153, 'coeff': None, 'bet_type': None, 'outcomes': [], 'insurance_id': 0, 'insurance_sum': 0, 'events_to_guess': None}   \n",
              "2  {'Id': 222, 'coeff': 1.35, 'bet_type': 'Single', 'outcomes': [{'Id': 200, 'name': 'Победит BETBOOM TEAM', 'coeff': 1.35, 'status': 'win', 'is_live': True, 'event_id': 'od:match:104857', 'sport_id': 'od:sport:2', 'is_active': True, 'type_name': 'Исход с учетом доп раундов', 'event_name': 'Outsiders - BETBOOM TEAM', 'sport_name': 'Dota 2', 'period_name': '', 'tournament_name': 'The International 2022: Eastern Europe Qualifier', 'event_start_date': '2022-09-07T08:30:00', 'team_side_1_name': 'Outsiders', 'team_side_2_name': 'BETBOOM TEAM'}], 'insurance_id': 0, 'insurance_sum': 0, 'events_to_guess': None}   \n",
              "3                                              {'Id': 326, 'coeff': 1.4, 'bet_type': 'Single', 'outcomes': [{'Id': 325, 'name': 'Победит Entity', 'coeff': 1.4, 'status': 'loss', 'is_live': True, 'event_id': 'od:match:114914', 'sport_id': 'od:sport:2', 'is_active': True, 'type_name': 'Исход с учетом доп раундов', 'event_name': 'Fnatic - Entity', 'sport_name': 'Dota 2', 'period_name': 'Карта 2', 'tournament_name': 'The International 2022', 'event_start_date': '2022-10-16T11:25:00', 'team_side_1_name': 'Fnatic', 'team_side_2_name': 'Entity'}], 'insurance_id': 0, 'insurance_sum': 0, 'events_to_guess': None}   \n",
              "4               {'Id': 292, 'coeff': 3.6, 'bet_type': 'Single', 'outcomes': [{'Id': 294, 'name': 'Победит Talon Esports', 'coeff': 3.6, 'status': 'loss', 'is_live': True, 'event_id': 'od:match:114933', 'sport_id': 'od:sport:2', 'is_active': True, 'type_name': 'Исход с учетом доп раундов', 'event_name': 'Team Spirit - Talon Esports', 'sport_name': 'Dota 2', 'period_name': 'Карта 2', 'tournament_name': 'The International 2022', 'event_start_date': '2022-10-16T02:00:00', 'team_side_1_name': 'Team Spirit', 'team_side_2_name': 'Talon Esports'}], 'insurance_id': 0, 'insurance_sum': 0, 'events_to_guess': None}   \n",
              "\n",
              "   possible_win              result_dttm status  \n",
              "0           0.0  2022-09-09T11:29:41.377   loss  \n",
              "1           0.0  2022-09-10T00:16:33.813   loss  \n",
              "2        6750.0  2022-09-07T11:22:19.268    win  \n",
              "3       14000.0  2022-10-16T13:28:39.571   loss  \n",
              "4        2880.0  2022-10-16T04:18:36.797   loss  "
            ],
            "text/html": [
              "\n",
              "  <div id=\"df-6d35e832-7abb-48f9-b4bf-2f5738028f73\">\n",
              "    <div class=\"colab-df-container\">\n",
              "      <div>\n",
              "<style scoped>\n",
              "    .dataframe tbody tr th:only-of-type {\n",
              "        vertical-align: middle;\n",
              "    }\n",
              "\n",
              "    .dataframe tbody tr th {\n",
              "        vertical-align: top;\n",
              "    }\n",
              "\n",
              "    .dataframe thead th {\n",
              "        text-align: right;\n",
              "    }\n",
              "</style>\n",
              "<table border=\"1\" class=\"dataframe\">\n",
              "  <thead>\n",
              "    <tr style=\"text-align: right;\">\n",
              "      <th></th>\n",
              "      <th>bet_id</th>\n",
              "      <th>balance_type</th>\n",
              "      <th>balance_type_win</th>\n",
              "      <th>bet_uid</th>\n",
              "      <th>bet_sum</th>\n",
              "      <th>bet_win</th>\n",
              "      <th>bet_win_real</th>\n",
              "      <th>create_dttm</th>\n",
              "      <th>game_kind</th>\n",
              "      <th>key</th>\n",
              "      <th>other</th>\n",
              "      <th>possible_win</th>\n",
              "      <th>result_dttm</th>\n",
              "      <th>status</th>\n",
              "    </tr>\n",
              "  </thead>\n",
              "  <tbody>\n",
              "    <tr>\n",
              "      <th>0</th>\n",
              "      <td>914550</td>\n",
              "      <td>money</td>\n",
              "      <td>money</td>\n",
              "      <td>None</td>\n",
              "      <td>200</td>\n",
              "      <td>0.0</td>\n",
              "      <td>0.0</td>\n",
              "      <td>2022-09-09T11:29:41.377</td>\n",
              "      <td>14</td>\n",
              "      <td>5c526d69bfab67189412ceded36c2842334fb2a1da8f1d54d4fed4eaf9ccfb4a</td>\n",
              "      <td>{'Id': 169, 'coeff': None, 'bet_type': None, 'outcomes': [], 'insurance_id': 0, 'insurance_sum': 0, 'events_to_guess': None}</td>\n",
              "      <td>0.0</td>\n",
              "      <td>2022-09-09T11:29:41.377</td>\n",
              "      <td>loss</td>\n",
              "    </tr>\n",
              "    <tr>\n",
              "      <th>1</th>\n",
              "      <td>1548239</td>\n",
              "      <td>money</td>\n",
              "      <td>money</td>\n",
              "      <td>None</td>\n",
              "      <td>50</td>\n",
              "      <td>0.0</td>\n",
              "      <td>0.0</td>\n",
              "      <td>2022-09-10T00:16:33.813</td>\n",
              "      <td>6</td>\n",
              "      <td>55840b5f98d4bf47c6fb0e273cdbc1fd203758b6e206baa962dcaedecf409950</td>\n",
              "      <td>{'Id': 153, 'coeff': None, 'bet_type': None, 'outcomes': [], 'insurance_id': 0, 'insurance_sum': 0, 'events_to_guess': None}</td>\n",
              "      <td>0.0</td>\n",
              "      <td>2022-09-10T00:16:33.813</td>\n",
              "      <td>loss</td>\n",
              "    </tr>\n",
              "    <tr>\n",
              "      <th>2</th>\n",
              "      <td>5273333</td>\n",
              "      <td>money</td>\n",
              "      <td>money</td>\n",
              "      <td>18d07faf-7f09-443e-bf74-794c4476e69d</td>\n",
              "      <td>5000</td>\n",
              "      <td>6750.0</td>\n",
              "      <td>6750.0</td>\n",
              "      <td>2022-09-07T09:52:58.911</td>\n",
              "      <td>2</td>\n",
              "      <td>a61111a1f96b7a3f2134757200f7d74ccde8fdb3e528849d3a7bd4c5929e00e5</td>\n",
              "      <td>{'Id': 222, 'coeff': 1.35, 'bet_type': 'Single', 'outcomes': [{'Id': 200, 'name': 'Победит BETBOOM TEAM', 'coeff': 1.35, 'status': 'win', 'is_live': True, 'event_id': 'od:match:104857', 'sport_id': 'od:sport:2', 'is_active': True, 'type_name': 'Исход с учетом доп раундов', 'event_name': 'Outsiders - BETBOOM TEAM', 'sport_name': 'Dota 2', 'period_name': '', 'tournament_name': 'The International 2022: Eastern Europe Qualifier', 'event_start_date': '2022-09-07T08:30:00', 'team_side_1_name': 'Outsiders', 'team_side_2_name': 'BETBOOM TEAM'}], 'insurance_id': 0, 'insurance_sum': 0, 'events_to_guess': None}</td>\n",
              "      <td>6750.0</td>\n",
              "      <td>2022-09-07T11:22:19.268</td>\n",
              "      <td>win</td>\n",
              "    </tr>\n",
              "    <tr>\n",
              "      <th>3</th>\n",
              "      <td>8766575</td>\n",
              "      <td>money</td>\n",
              "      <td>money</td>\n",
              "      <td>9b73e806-fda1-4af6-828c-896ca1da9a04</td>\n",
              "      <td>10000</td>\n",
              "      <td>0.0</td>\n",
              "      <td>0.0</td>\n",
              "      <td>2022-10-16T12:43:52.205</td>\n",
              "      <td>2</td>\n",
              "      <td>00ae8fc66fa2a042316dbd8b846d6d63c93f5fe2dac016c5a3805674404538aa</td>\n",
              "      <td>{'Id': 326, 'coeff': 1.4, 'bet_type': 'Single', 'outcomes': [{'Id': 325, 'name': 'Победит Entity', 'coeff': 1.4, 'status': 'loss', 'is_live': True, 'event_id': 'od:match:114914', 'sport_id': 'od:sport:2', 'is_active': True, 'type_name': 'Исход с учетом доп раундов', 'event_name': 'Fnatic - Entity', 'sport_name': 'Dota 2', 'period_name': 'Карта 2', 'tournament_name': 'The International 2022', 'event_start_date': '2022-10-16T11:25:00', 'team_side_1_name': 'Fnatic', 'team_side_2_name': 'Entity'}], 'insurance_id': 0, 'insurance_sum': 0, 'events_to_guess': None}</td>\n",
              "      <td>14000.0</td>\n",
              "      <td>2022-10-16T13:28:39.571</td>\n",
              "      <td>loss</td>\n",
              "    </tr>\n",
              "    <tr>\n",
              "      <th>4</th>\n",
              "      <td>22135807</td>\n",
              "      <td>money</td>\n",
              "      <td>money</td>\n",
              "      <td>a703a468-1257-47ef-adfb-3eef3fc2af81</td>\n",
              "      <td>800</td>\n",
              "      <td>0.0</td>\n",
              "      <td>0.0</td>\n",
              "      <td>2022-10-16T04:05:35.951</td>\n",
              "      <td>2</td>\n",
              "      <td>14fdaf967e1a6ddbd89cbbe3e9ad47ed5c543bad6217216e65d169e8162c3196</td>\n",
              "      <td>{'Id': 292, 'coeff': 3.6, 'bet_type': 'Single', 'outcomes': [{'Id': 294, 'name': 'Победит Talon Esports', 'coeff': 3.6, 'status': 'loss', 'is_live': True, 'event_id': 'od:match:114933', 'sport_id': 'od:sport:2', 'is_active': True, 'type_name': 'Исход с учетом доп раундов', 'event_name': 'Team Spirit - Talon Esports', 'sport_name': 'Dota 2', 'period_name': 'Карта 2', 'tournament_name': 'The International 2022', 'event_start_date': '2022-10-16T02:00:00', 'team_side_1_name': 'Team Spirit', 'team_side_2_name': 'Talon Esports'}], 'insurance_id': 0, 'insurance_sum': 0, 'events_to_guess': None}</td>\n",
              "      <td>2880.0</td>\n",
              "      <td>2022-10-16T04:18:36.797</td>\n",
              "      <td>loss</td>\n",
              "    </tr>\n",
              "  </tbody>\n",
              "</table>\n",
              "</div>\n",
              "      <button class=\"colab-df-convert\" onclick=\"convertToInteractive('df-6d35e832-7abb-48f9-b4bf-2f5738028f73')\"\n",
              "              title=\"Convert this dataframe to an interactive table.\"\n",
              "              style=\"display:none;\">\n",
              "        \n",
              "  <svg xmlns=\"http://www.w3.org/2000/svg\" height=\"24px\"viewBox=\"0 0 24 24\"\n",
              "       width=\"24px\">\n",
              "    <path d=\"M0 0h24v24H0V0z\" fill=\"none\"/>\n",
              "    <path d=\"M18.56 5.44l.94 2.06.94-2.06 2.06-.94-2.06-.94-.94-2.06-.94 2.06-2.06.94zm-11 1L8.5 8.5l.94-2.06 2.06-.94-2.06-.94L8.5 2.5l-.94 2.06-2.06.94zm10 10l.94 2.06.94-2.06 2.06-.94-2.06-.94-.94-2.06-.94 2.06-2.06.94z\"/><path d=\"M17.41 7.96l-1.37-1.37c-.4-.4-.92-.59-1.43-.59-.52 0-1.04.2-1.43.59L10.3 9.45l-7.72 7.72c-.78.78-.78 2.05 0 2.83L4 21.41c.39.39.9.59 1.41.59.51 0 1.02-.2 1.41-.59l7.78-7.78 2.81-2.81c.8-.78.8-2.07 0-2.86zM5.41 20L4 18.59l7.72-7.72 1.47 1.35L5.41 20z\"/>\n",
              "  </svg>\n",
              "      </button>\n",
              "      \n",
              "  <style>\n",
              "    .colab-df-container {\n",
              "      display:flex;\n",
              "      flex-wrap:wrap;\n",
              "      gap: 12px;\n",
              "    }\n",
              "\n",
              "    .colab-df-convert {\n",
              "      background-color: #E8F0FE;\n",
              "      border: none;\n",
              "      border-radius: 50%;\n",
              "      cursor: pointer;\n",
              "      display: none;\n",
              "      fill: #1967D2;\n",
              "      height: 32px;\n",
              "      padding: 0 0 0 0;\n",
              "      width: 32px;\n",
              "    }\n",
              "\n",
              "    .colab-df-convert:hover {\n",
              "      background-color: #E2EBFA;\n",
              "      box-shadow: 0px 1px 2px rgba(60, 64, 67, 0.3), 0px 1px 3px 1px rgba(60, 64, 67, 0.15);\n",
              "      fill: #174EA6;\n",
              "    }\n",
              "\n",
              "    [theme=dark] .colab-df-convert {\n",
              "      background-color: #3B4455;\n",
              "      fill: #D2E3FC;\n",
              "    }\n",
              "\n",
              "    [theme=dark] .colab-df-convert:hover {\n",
              "      background-color: #434B5C;\n",
              "      box-shadow: 0px 1px 3px 1px rgba(0, 0, 0, 0.15);\n",
              "      filter: drop-shadow(0px 1px 2px rgba(0, 0, 0, 0.3));\n",
              "      fill: #FFFFFF;\n",
              "    }\n",
              "  </style>\n",
              "\n",
              "      <script>\n",
              "        const buttonEl =\n",
              "          document.querySelector('#df-6d35e832-7abb-48f9-b4bf-2f5738028f73 button.colab-df-convert');\n",
              "        buttonEl.style.display =\n",
              "          google.colab.kernel.accessAllowed ? 'block' : 'none';\n",
              "\n",
              "        async function convertToInteractive(key) {\n",
              "          const element = document.querySelector('#df-6d35e832-7abb-48f9-b4bf-2f5738028f73');\n",
              "          const dataTable =\n",
              "            await google.colab.kernel.invokeFunction('convertToInteractive',\n",
              "                                                     [key], {});\n",
              "          if (!dataTable) return;\n",
              "\n",
              "          const docLinkHtml = 'Like what you see? Visit the ' +\n",
              "            '<a target=\"_blank\" href=https://colab.research.google.com/notebooks/data_table.ipynb>data table notebook</a>'\n",
              "            + ' to learn more about interactive tables.';\n",
              "          element.innerHTML = '';\n",
              "          dataTable['output_type'] = 'display_data';\n",
              "          await google.colab.output.renderOutput(dataTable, element);\n",
              "          const docLink = document.createElement('div');\n",
              "          docLink.innerHTML = docLinkHtml;\n",
              "          element.appendChild(docLink);\n",
              "        }\n",
              "      </script>\n",
              "    </div>\n",
              "  </div>\n",
              "  "
            ]
          },
          "metadata": {},
          "execution_count": 188
        }
      ]
    },
    {
      "cell_type": "code",
      "source": [
        "data.describe()\n",
        "data.other"
      ],
      "metadata": {
        "colab": {
          "base_uri": "https://localhost:8080/"
        },
        "id": "wbzQPy_EELXn",
        "outputId": "6322f42d-4557-4b99-c884-42ba7c241f89"
      },
      "execution_count": 189,
      "outputs": [
        {
          "output_type": "execute_result",
          "data": {
            "text/plain": [
              "0                                                                                                                                                                                                                                                                                                                                                                                                                                                                                                          {'Id': 169, 'coeff': None, 'bet_type': None, 'outcomes': [], 'insurance_id': 0, 'insurance_sum': 0, 'events_to_guess': None}\n",
              "1                                                                                                                                                                                                                                                                                                                                                                                                                                                                                                          {'Id': 153, 'coeff': None, 'bet_type': None, 'outcomes': [], 'insurance_id': 0, 'insurance_sum': 0, 'events_to_guess': None}\n",
              "2       {'Id': 222, 'coeff': 1.35, 'bet_type': 'Single', 'outcomes': [{'Id': 200, 'name': 'Победит BETBOOM TEAM', 'coeff': 1.35, 'status': 'win', 'is_live': True, 'event_id': 'od:match:104857', 'sport_id': 'od:sport:2', 'is_active': True, 'type_name': 'Исход с учетом доп раундов', 'event_name': 'Outsiders - BETBOOM TEAM', 'sport_name': 'Dota 2', 'period_name': '', 'tournament_name': 'The International 2022: Eastern Europe Qualifier', 'event_start_date': '2022-09-07T08:30:00', 'team_side_1_name': 'Outsiders', 'team_side_2_name': 'BETBOOM TEAM'}], 'insurance_id': 0, 'insurance_sum': 0, 'events_to_guess': None}\n",
              "3                                                   {'Id': 326, 'coeff': 1.4, 'bet_type': 'Single', 'outcomes': [{'Id': 325, 'name': 'Победит Entity', 'coeff': 1.4, 'status': 'loss', 'is_live': True, 'event_id': 'od:match:114914', 'sport_id': 'od:sport:2', 'is_active': True, 'type_name': 'Исход с учетом доп раундов', 'event_name': 'Fnatic - Entity', 'sport_name': 'Dota 2', 'period_name': 'Карта 2', 'tournament_name': 'The International 2022', 'event_start_date': '2022-10-16T11:25:00', 'team_side_1_name': 'Fnatic', 'team_side_2_name': 'Entity'}], 'insurance_id': 0, 'insurance_sum': 0, 'events_to_guess': None}\n",
              "4                    {'Id': 292, 'coeff': 3.6, 'bet_type': 'Single', 'outcomes': [{'Id': 294, 'name': 'Победит Talon Esports', 'coeff': 3.6, 'status': 'loss', 'is_live': True, 'event_id': 'od:match:114933', 'sport_id': 'od:sport:2', 'is_active': True, 'type_name': 'Исход с учетом доп раундов', 'event_name': 'Team Spirit - Talon Esports', 'sport_name': 'Dota 2', 'period_name': 'Карта 2', 'tournament_name': 'The International 2022', 'event_start_date': '2022-10-16T02:00:00', 'team_side_1_name': 'Team Spirit', 'team_side_2_name': 'Talon Esports'}], 'insurance_id': 0, 'insurance_sum': 0, 'events_to_guess': None}\n",
              "                                                                                                                                                                                                                                                                                                                     ...                                                                                                                                                                                                                                                                                                               \n",
              "425    {'Id': 71, 'coeff': 1.28, 'bet_type': 'Single', 'outcomes': [{'Id': 66, 'name': 'Победит T1 Esports', 'coeff': 1.28, 'status': 'win', 'is_live': True, 'event_id': 'od:match:104862', 'sport_id': 'od:sport:2', 'is_active': True, 'type_name': 'Исход с учетом доп раундов', 'event_name': 'T1 Esports - Execration', 'sport_name': 'Dota 2', 'period_name': 'Карта 1', 'tournament_name': 'The International 2022: Southeast Asia Qualifier', 'event_start_date': '2022-09-13T09:55:00', 'team_side_1_name': 'T1 Esports', 'team_side_2_name': 'Execration'}], 'insurance_id': 0, 'insurance_sum': 0, 'events_to_guess': None}\n",
              "426    {'Id': 23, 'coeff': 1.58, 'bet_type': 'Single', 'outcomes': [{'Id': 32, 'name': 'Победит Polaris Esports', 'coeff': 1.58, 'status': 'loss', 'is_live': True, 'event_id': 'od:match:114242', 'sport_id': 'od:sport:2', 'is_active': True, 'type_name': 'Исход с учетом доп раундов', 'event_name': 'Polaris Esports - Wildcard Gaming', 'sport_name': 'Dota 2', 'period_name': 'Карта 2', 'tournament_name': 'The International 2022', 'event_start_date': '2022-10-10T13:05:00', 'team_side_1_name': 'Polaris Esports', 'team_side_2_name': 'Wildcard Gaming'}], 'insurance_id': 0, 'insurance_sum': 0, 'events_to_guess': None}\n",
              "427     {'Id': 257, 'coeff': 1.38, 'bet_type': 'Single', 'outcomes': [{'Id': 250, 'name': 'Победит Outsiders', 'coeff': 1.38, 'status': 'win', 'is_live': False, 'event_id': 'od:match:104855', 'sport_id': 'od:sport:2', 'is_active': True, 'type_name': 'Исход с учетом доп раундов', 'event_name': 'Outsiders - Natus Vincere', 'sport_name': 'Dota 2', 'period_name': '', 'tournament_name': 'The International 2022: Eastern Europe Qualifier', 'event_start_date': '2022-09-06T12:00:00', 'team_side_1_name': 'Outsiders', 'team_side_2_name': 'Natus Vincere'}], 'insurance_id': 0, 'insurance_sum': 0, 'events_to_guess': None}\n",
              "428      {'Id': 122, 'coeff': 1.42, 'bet_type': 'Single', 'outcomes': [{'Id': 102, 'name': 'Победит Vici Gaming', 'coeff': 1.42, 'status': 'win', 'is_live': True, 'event_id': 'od:match:104895', 'sport_id': 'od:sport:2', 'is_active': True, 'type_name': 'Исход с учетом доп раундов', 'event_name': 'CDEC Gaming - Vici Gaming', 'sport_name': 'Dota 2', 'period_name': 'Карта 2', 'tournament_name': 'The International 2022: China Qualifier', 'event_start_date': '2022-09-11T01:15:00', 'team_side_1_name': 'CDEC Gaming', 'team_side_2_name': 'Vici Gaming'}], 'insurance_id': 0, 'insurance_sum': 0, 'events_to_guess': None}\n",
              "429                           {'Id': 246, 'coeff': 1.75, 'bet_type': 'Single', 'outcomes': [{'Id': 238, 'name': 'Победит EZ KATKA', 'coeff': 1.75, 'status': 'loss', 'is_live': True, 'event_id': 'od:match:104534', 'sport_id': 'od:sport:2', 'is_active': True, 'type_name': 'Исход с учетом доп раундов', 'event_name': 'Team Empire Hope - EZ KATKA', 'sport_name': 'Dota 2', 'period_name': 'Карта 2', 'tournament_name': 'Insight Season 2', 'event_start_date': '2022-09-08T14:08:00', 'team_side_1_name': 'Team Empire Hope', 'team_side_2_name': 'EZ KATKA'}], 'insurance_id': 0, 'insurance_sum': 0, 'events_to_guess': None}\n",
              "Name: other, Length: 430, dtype: object"
            ]
          },
          "metadata": {},
          "execution_count": 189
        }
      ]
    },
    {
      "cell_type": "code",
      "source": [
        "data.info()"
      ],
      "metadata": {
        "colab": {
          "base_uri": "https://localhost:8080/"
        },
        "id": "bZIwJYnmEOLK",
        "outputId": "e9bf6e38-f619-4c71-c923-a265abe8652a"
      },
      "execution_count": 190,
      "outputs": [
        {
          "output_type": "stream",
          "name": "stdout",
          "text": [
            "<class 'pandas.core.frame.DataFrame'>\n",
            "RangeIndex: 430 entries, 0 to 429\n",
            "Data columns (total 14 columns):\n",
            " #   Column            Non-Null Count  Dtype  \n",
            "---  ------            --------------  -----  \n",
            " 0   bet_id            430 non-null    int64  \n",
            " 1   balance_type      430 non-null    object \n",
            " 2   balance_type_win  430 non-null    object \n",
            " 3   bet_uid           428 non-null    object \n",
            " 4   bet_sum           430 non-null    int64  \n",
            " 5   bet_win           430 non-null    float64\n",
            " 6   bet_win_real      430 non-null    float64\n",
            " 7   create_dttm       430 non-null    object \n",
            " 8   game_kind         430 non-null    int64  \n",
            " 9   key               430 non-null    object \n",
            " 10  other             430 non-null    object \n",
            " 11  possible_win      430 non-null    float64\n",
            " 12  result_dttm       430 non-null    object \n",
            " 13  status            430 non-null    object \n",
            "dtypes: float64(3), int64(3), object(8)\n",
            "memory usage: 47.2+ KB\n"
          ]
        }
      ]
    },
    {
      "cell_type": "code",
      "source": [
        "def addColumn(column):\n",
        "  tempList = []\n",
        "  for x in range(len(data)):\n",
        "    if x==0:\n",
        "      tempList.append(0)\n",
        "    elif x==1:\n",
        "      tempList.append(0)\n",
        "    else:\n",
        "      tempList.append(data.other[x]['outcomes'][0][column])\n",
        "  data[column] = tempList"
      ],
      "metadata": {
        "id": "hTEt2N3ovTdJ"
      },
      "execution_count": 191,
      "outputs": []
    },
    {
      "cell_type": "code",
      "source": [
        "addColumn('event_name')\n",
        "addColumn('team_side_1_name')\n",
        "addColumn('team_side_2_name')\n",
        "addColumn('type_name')\n",
        "addColumn('coeff')\n",
        "addColumn('name')"
      ],
      "metadata": {
        "id": "rvUpZiYNvVhM"
      },
      "execution_count": 192,
      "outputs": []
    },
    {
      "cell_type": "code",
      "source": [
        "data = data.drop(columns=['key','create_dttm', 'bet_uid', 'balance_type', 'game_kind', 'key','other'])"
      ],
      "metadata": {
        "id": "4eHBJ2yHES16"
      },
      "execution_count": 193,
      "outputs": []
    },
    {
      "cell_type": "code",
      "source": [
        "data.shape"
      ],
      "metadata": {
        "colab": {
          "base_uri": "https://localhost:8080/"
        },
        "id": "IQmzB7FzW6sG",
        "outputId": "084ef4d5-a15e-4ba6-c47b-cdad1e713ac1"
      },
      "execution_count": 194,
      "outputs": [
        {
          "output_type": "execute_result",
          "data": {
            "text/plain": [
              "(430, 14)"
            ]
          },
          "metadata": {},
          "execution_count": 194
        }
      ]
    },
    {
      "cell_type": "code",
      "source": [
        "data.columns"
      ],
      "metadata": {
        "colab": {
          "base_uri": "https://localhost:8080/"
        },
        "id": "QTmbANPWnlTE",
        "outputId": "1a47ae75-08b3-47b8-ac86-8d0c65e6cc7a"
      },
      "execution_count": 195,
      "outputs": [
        {
          "output_type": "execute_result",
          "data": {
            "text/plain": [
              "Index(['bet_id', 'balance_type_win', 'bet_sum', 'bet_win', 'bet_win_real',\n",
              "       'possible_win', 'result_dttm', 'status', 'event_name',\n",
              "       'team_side_1_name', 'team_side_2_name', 'type_name', 'coeff', 'name'],\n",
              "      dtype='object')"
            ]
          },
          "metadata": {},
          "execution_count": 195
        }
      ]
    },
    {
      "cell_type": "code",
      "source": [
        "data.loc[3:4]"
      ],
      "metadata": {
        "colab": {
          "base_uri": "https://localhost:8080/",
          "height": 112
        },
        "id": "Jl62FYy2nmqR",
        "outputId": "ff4df8cb-e6d7-4e27-e507-5c26905ff379"
      },
      "execution_count": 196,
      "outputs": [
        {
          "output_type": "execute_result",
          "data": {
            "text/plain": [
              "     bet_id balance_type_win  bet_sum  bet_win  bet_win_real  possible_win  \\\n",
              "3   8766575            money    10000      0.0           0.0       14000.0   \n",
              "4  22135807            money      800      0.0           0.0        2880.0   \n",
              "\n",
              "               result_dttm status                   event_name  \\\n",
              "3  2022-10-16T13:28:39.571   loss              Fnatic - Entity   \n",
              "4  2022-10-16T04:18:36.797   loss  Team Spirit - Talon Esports   \n",
              "\n",
              "  team_side_1_name team_side_2_name                   type_name  coeff  \\\n",
              "3           Fnatic           Entity  Исход с учетом доп раундов    1.4   \n",
              "4      Team Spirit    Talon Esports  Исход с учетом доп раундов    3.6   \n",
              "\n",
              "                    name  \n",
              "3         Победит Entity  \n",
              "4  Победит Talon Esports  "
            ],
            "text/html": [
              "\n",
              "  <div id=\"df-09bc8ee5-29cd-4155-9b54-ce72128f3e36\">\n",
              "    <div class=\"colab-df-container\">\n",
              "      <div>\n",
              "<style scoped>\n",
              "    .dataframe tbody tr th:only-of-type {\n",
              "        vertical-align: middle;\n",
              "    }\n",
              "\n",
              "    .dataframe tbody tr th {\n",
              "        vertical-align: top;\n",
              "    }\n",
              "\n",
              "    .dataframe thead th {\n",
              "        text-align: right;\n",
              "    }\n",
              "</style>\n",
              "<table border=\"1\" class=\"dataframe\">\n",
              "  <thead>\n",
              "    <tr style=\"text-align: right;\">\n",
              "      <th></th>\n",
              "      <th>bet_id</th>\n",
              "      <th>balance_type_win</th>\n",
              "      <th>bet_sum</th>\n",
              "      <th>bet_win</th>\n",
              "      <th>bet_win_real</th>\n",
              "      <th>possible_win</th>\n",
              "      <th>result_dttm</th>\n",
              "      <th>status</th>\n",
              "      <th>event_name</th>\n",
              "      <th>team_side_1_name</th>\n",
              "      <th>team_side_2_name</th>\n",
              "      <th>type_name</th>\n",
              "      <th>coeff</th>\n",
              "      <th>name</th>\n",
              "    </tr>\n",
              "  </thead>\n",
              "  <tbody>\n",
              "    <tr>\n",
              "      <th>3</th>\n",
              "      <td>8766575</td>\n",
              "      <td>money</td>\n",
              "      <td>10000</td>\n",
              "      <td>0.0</td>\n",
              "      <td>0.0</td>\n",
              "      <td>14000.0</td>\n",
              "      <td>2022-10-16T13:28:39.571</td>\n",
              "      <td>loss</td>\n",
              "      <td>Fnatic - Entity</td>\n",
              "      <td>Fnatic</td>\n",
              "      <td>Entity</td>\n",
              "      <td>Исход с учетом доп раундов</td>\n",
              "      <td>1.4</td>\n",
              "      <td>Победит Entity</td>\n",
              "    </tr>\n",
              "    <tr>\n",
              "      <th>4</th>\n",
              "      <td>22135807</td>\n",
              "      <td>money</td>\n",
              "      <td>800</td>\n",
              "      <td>0.0</td>\n",
              "      <td>0.0</td>\n",
              "      <td>2880.0</td>\n",
              "      <td>2022-10-16T04:18:36.797</td>\n",
              "      <td>loss</td>\n",
              "      <td>Team Spirit - Talon Esports</td>\n",
              "      <td>Team Spirit</td>\n",
              "      <td>Talon Esports</td>\n",
              "      <td>Исход с учетом доп раундов</td>\n",
              "      <td>3.6</td>\n",
              "      <td>Победит Talon Esports</td>\n",
              "    </tr>\n",
              "  </tbody>\n",
              "</table>\n",
              "</div>\n",
              "      <button class=\"colab-df-convert\" onclick=\"convertToInteractive('df-09bc8ee5-29cd-4155-9b54-ce72128f3e36')\"\n",
              "              title=\"Convert this dataframe to an interactive table.\"\n",
              "              style=\"display:none;\">\n",
              "        \n",
              "  <svg xmlns=\"http://www.w3.org/2000/svg\" height=\"24px\"viewBox=\"0 0 24 24\"\n",
              "       width=\"24px\">\n",
              "    <path d=\"M0 0h24v24H0V0z\" fill=\"none\"/>\n",
              "    <path d=\"M18.56 5.44l.94 2.06.94-2.06 2.06-.94-2.06-.94-.94-2.06-.94 2.06-2.06.94zm-11 1L8.5 8.5l.94-2.06 2.06-.94-2.06-.94L8.5 2.5l-.94 2.06-2.06.94zm10 10l.94 2.06.94-2.06 2.06-.94-2.06-.94-.94-2.06-.94 2.06-2.06.94z\"/><path d=\"M17.41 7.96l-1.37-1.37c-.4-.4-.92-.59-1.43-.59-.52 0-1.04.2-1.43.59L10.3 9.45l-7.72 7.72c-.78.78-.78 2.05 0 2.83L4 21.41c.39.39.9.59 1.41.59.51 0 1.02-.2 1.41-.59l7.78-7.78 2.81-2.81c.8-.78.8-2.07 0-2.86zM5.41 20L4 18.59l7.72-7.72 1.47 1.35L5.41 20z\"/>\n",
              "  </svg>\n",
              "      </button>\n",
              "      \n",
              "  <style>\n",
              "    .colab-df-container {\n",
              "      display:flex;\n",
              "      flex-wrap:wrap;\n",
              "      gap: 12px;\n",
              "    }\n",
              "\n",
              "    .colab-df-convert {\n",
              "      background-color: #E8F0FE;\n",
              "      border: none;\n",
              "      border-radius: 50%;\n",
              "      cursor: pointer;\n",
              "      display: none;\n",
              "      fill: #1967D2;\n",
              "      height: 32px;\n",
              "      padding: 0 0 0 0;\n",
              "      width: 32px;\n",
              "    }\n",
              "\n",
              "    .colab-df-convert:hover {\n",
              "      background-color: #E2EBFA;\n",
              "      box-shadow: 0px 1px 2px rgba(60, 64, 67, 0.3), 0px 1px 3px 1px rgba(60, 64, 67, 0.15);\n",
              "      fill: #174EA6;\n",
              "    }\n",
              "\n",
              "    [theme=dark] .colab-df-convert {\n",
              "      background-color: #3B4455;\n",
              "      fill: #D2E3FC;\n",
              "    }\n",
              "\n",
              "    [theme=dark] .colab-df-convert:hover {\n",
              "      background-color: #434B5C;\n",
              "      box-shadow: 0px 1px 3px 1px rgba(0, 0, 0, 0.15);\n",
              "      filter: drop-shadow(0px 1px 2px rgba(0, 0, 0, 0.3));\n",
              "      fill: #FFFFFF;\n",
              "    }\n",
              "  </style>\n",
              "\n",
              "      <script>\n",
              "        const buttonEl =\n",
              "          document.querySelector('#df-09bc8ee5-29cd-4155-9b54-ce72128f3e36 button.colab-df-convert');\n",
              "        buttonEl.style.display =\n",
              "          google.colab.kernel.accessAllowed ? 'block' : 'none';\n",
              "\n",
              "        async function convertToInteractive(key) {\n",
              "          const element = document.querySelector('#df-09bc8ee5-29cd-4155-9b54-ce72128f3e36');\n",
              "          const dataTable =\n",
              "            await google.colab.kernel.invokeFunction('convertToInteractive',\n",
              "                                                     [key], {});\n",
              "          if (!dataTable) return;\n",
              "\n",
              "          const docLinkHtml = 'Like what you see? Visit the ' +\n",
              "            '<a target=\"_blank\" href=https://colab.research.google.com/notebooks/data_table.ipynb>data table notebook</a>'\n",
              "            + ' to learn more about interactive tables.';\n",
              "          element.innerHTML = '';\n",
              "          dataTable['output_type'] = 'display_data';\n",
              "          await google.colab.output.renderOutput(dataTable, element);\n",
              "          const docLink = document.createElement('div');\n",
              "          docLink.innerHTML = docLinkHtml;\n",
              "          element.appendChild(docLink);\n",
              "        }\n",
              "      </script>\n",
              "    </div>\n",
              "  </div>\n",
              "  "
            ]
          },
          "metadata": {},
          "execution_count": 196
        }
      ]
    },
    {
      "cell_type": "code",
      "source": [
        "newdata = data[2:]"
      ],
      "metadata": {
        "id": "VkuF8JeeoJBQ"
      },
      "execution_count": 197,
      "outputs": []
    },
    {
      "cell_type": "code",
      "source": [
        "data.head()"
      ],
      "metadata": {
        "colab": {
          "base_uri": "https://localhost:8080/",
          "height": 206
        },
        "id": "gAxipsPsc7yK",
        "outputId": "a7d4dbbe-a30c-4731-9139-46291ee0cafe"
      },
      "execution_count": 198,
      "outputs": [
        {
          "output_type": "execute_result",
          "data": {
            "text/plain": [
              "     bet_id balance_type_win  bet_sum  bet_win  bet_win_real  possible_win  \\\n",
              "0    914550            money      200      0.0           0.0           0.0   \n",
              "1   1548239            money       50      0.0           0.0           0.0   \n",
              "2   5273333            money     5000   6750.0        6750.0        6750.0   \n",
              "3   8766575            money    10000      0.0           0.0       14000.0   \n",
              "4  22135807            money      800      0.0           0.0        2880.0   \n",
              "\n",
              "               result_dttm status                   event_name  \\\n",
              "0  2022-09-09T11:29:41.377   loss                            0   \n",
              "1  2022-09-10T00:16:33.813   loss                            0   \n",
              "2  2022-09-07T11:22:19.268    win     Outsiders - BETBOOM TEAM   \n",
              "3  2022-10-16T13:28:39.571   loss              Fnatic - Entity   \n",
              "4  2022-10-16T04:18:36.797   loss  Team Spirit - Talon Esports   \n",
              "\n",
              "  team_side_1_name team_side_2_name                   type_name  coeff  \\\n",
              "0                0                0                           0   0.00   \n",
              "1                0                0                           0   0.00   \n",
              "2        Outsiders     BETBOOM TEAM  Исход с учетом доп раундов   1.35   \n",
              "3           Fnatic           Entity  Исход с учетом доп раундов   1.40   \n",
              "4      Team Spirit    Talon Esports  Исход с учетом доп раундов   3.60   \n",
              "\n",
              "                    name  \n",
              "0                      0  \n",
              "1                      0  \n",
              "2   Победит BETBOOM TEAM  \n",
              "3         Победит Entity  \n",
              "4  Победит Talon Esports  "
            ],
            "text/html": [
              "\n",
              "  <div id=\"df-8d9b38da-b5f3-4a5e-8c2c-2b89f048fe2a\">\n",
              "    <div class=\"colab-df-container\">\n",
              "      <div>\n",
              "<style scoped>\n",
              "    .dataframe tbody tr th:only-of-type {\n",
              "        vertical-align: middle;\n",
              "    }\n",
              "\n",
              "    .dataframe tbody tr th {\n",
              "        vertical-align: top;\n",
              "    }\n",
              "\n",
              "    .dataframe thead th {\n",
              "        text-align: right;\n",
              "    }\n",
              "</style>\n",
              "<table border=\"1\" class=\"dataframe\">\n",
              "  <thead>\n",
              "    <tr style=\"text-align: right;\">\n",
              "      <th></th>\n",
              "      <th>bet_id</th>\n",
              "      <th>balance_type_win</th>\n",
              "      <th>bet_sum</th>\n",
              "      <th>bet_win</th>\n",
              "      <th>bet_win_real</th>\n",
              "      <th>possible_win</th>\n",
              "      <th>result_dttm</th>\n",
              "      <th>status</th>\n",
              "      <th>event_name</th>\n",
              "      <th>team_side_1_name</th>\n",
              "      <th>team_side_2_name</th>\n",
              "      <th>type_name</th>\n",
              "      <th>coeff</th>\n",
              "      <th>name</th>\n",
              "    </tr>\n",
              "  </thead>\n",
              "  <tbody>\n",
              "    <tr>\n",
              "      <th>0</th>\n",
              "      <td>914550</td>\n",
              "      <td>money</td>\n",
              "      <td>200</td>\n",
              "      <td>0.0</td>\n",
              "      <td>0.0</td>\n",
              "      <td>0.0</td>\n",
              "      <td>2022-09-09T11:29:41.377</td>\n",
              "      <td>loss</td>\n",
              "      <td>0</td>\n",
              "      <td>0</td>\n",
              "      <td>0</td>\n",
              "      <td>0</td>\n",
              "      <td>0.00</td>\n",
              "      <td>0</td>\n",
              "    </tr>\n",
              "    <tr>\n",
              "      <th>1</th>\n",
              "      <td>1548239</td>\n",
              "      <td>money</td>\n",
              "      <td>50</td>\n",
              "      <td>0.0</td>\n",
              "      <td>0.0</td>\n",
              "      <td>0.0</td>\n",
              "      <td>2022-09-10T00:16:33.813</td>\n",
              "      <td>loss</td>\n",
              "      <td>0</td>\n",
              "      <td>0</td>\n",
              "      <td>0</td>\n",
              "      <td>0</td>\n",
              "      <td>0.00</td>\n",
              "      <td>0</td>\n",
              "    </tr>\n",
              "    <tr>\n",
              "      <th>2</th>\n",
              "      <td>5273333</td>\n",
              "      <td>money</td>\n",
              "      <td>5000</td>\n",
              "      <td>6750.0</td>\n",
              "      <td>6750.0</td>\n",
              "      <td>6750.0</td>\n",
              "      <td>2022-09-07T11:22:19.268</td>\n",
              "      <td>win</td>\n",
              "      <td>Outsiders - BETBOOM TEAM</td>\n",
              "      <td>Outsiders</td>\n",
              "      <td>BETBOOM TEAM</td>\n",
              "      <td>Исход с учетом доп раундов</td>\n",
              "      <td>1.35</td>\n",
              "      <td>Победит BETBOOM TEAM</td>\n",
              "    </tr>\n",
              "    <tr>\n",
              "      <th>3</th>\n",
              "      <td>8766575</td>\n",
              "      <td>money</td>\n",
              "      <td>10000</td>\n",
              "      <td>0.0</td>\n",
              "      <td>0.0</td>\n",
              "      <td>14000.0</td>\n",
              "      <td>2022-10-16T13:28:39.571</td>\n",
              "      <td>loss</td>\n",
              "      <td>Fnatic - Entity</td>\n",
              "      <td>Fnatic</td>\n",
              "      <td>Entity</td>\n",
              "      <td>Исход с учетом доп раундов</td>\n",
              "      <td>1.40</td>\n",
              "      <td>Победит Entity</td>\n",
              "    </tr>\n",
              "    <tr>\n",
              "      <th>4</th>\n",
              "      <td>22135807</td>\n",
              "      <td>money</td>\n",
              "      <td>800</td>\n",
              "      <td>0.0</td>\n",
              "      <td>0.0</td>\n",
              "      <td>2880.0</td>\n",
              "      <td>2022-10-16T04:18:36.797</td>\n",
              "      <td>loss</td>\n",
              "      <td>Team Spirit - Talon Esports</td>\n",
              "      <td>Team Spirit</td>\n",
              "      <td>Talon Esports</td>\n",
              "      <td>Исход с учетом доп раундов</td>\n",
              "      <td>3.60</td>\n",
              "      <td>Победит Talon Esports</td>\n",
              "    </tr>\n",
              "  </tbody>\n",
              "</table>\n",
              "</div>\n",
              "      <button class=\"colab-df-convert\" onclick=\"convertToInteractive('df-8d9b38da-b5f3-4a5e-8c2c-2b89f048fe2a')\"\n",
              "              title=\"Convert this dataframe to an interactive table.\"\n",
              "              style=\"display:none;\">\n",
              "        \n",
              "  <svg xmlns=\"http://www.w3.org/2000/svg\" height=\"24px\"viewBox=\"0 0 24 24\"\n",
              "       width=\"24px\">\n",
              "    <path d=\"M0 0h24v24H0V0z\" fill=\"none\"/>\n",
              "    <path d=\"M18.56 5.44l.94 2.06.94-2.06 2.06-.94-2.06-.94-.94-2.06-.94 2.06-2.06.94zm-11 1L8.5 8.5l.94-2.06 2.06-.94-2.06-.94L8.5 2.5l-.94 2.06-2.06.94zm10 10l.94 2.06.94-2.06 2.06-.94-2.06-.94-.94-2.06-.94 2.06-2.06.94z\"/><path d=\"M17.41 7.96l-1.37-1.37c-.4-.4-.92-.59-1.43-.59-.52 0-1.04.2-1.43.59L10.3 9.45l-7.72 7.72c-.78.78-.78 2.05 0 2.83L4 21.41c.39.39.9.59 1.41.59.51 0 1.02-.2 1.41-.59l7.78-7.78 2.81-2.81c.8-.78.8-2.07 0-2.86zM5.41 20L4 18.59l7.72-7.72 1.47 1.35L5.41 20z\"/>\n",
              "  </svg>\n",
              "      </button>\n",
              "      \n",
              "  <style>\n",
              "    .colab-df-container {\n",
              "      display:flex;\n",
              "      flex-wrap:wrap;\n",
              "      gap: 12px;\n",
              "    }\n",
              "\n",
              "    .colab-df-convert {\n",
              "      background-color: #E8F0FE;\n",
              "      border: none;\n",
              "      border-radius: 50%;\n",
              "      cursor: pointer;\n",
              "      display: none;\n",
              "      fill: #1967D2;\n",
              "      height: 32px;\n",
              "      padding: 0 0 0 0;\n",
              "      width: 32px;\n",
              "    }\n",
              "\n",
              "    .colab-df-convert:hover {\n",
              "      background-color: #E2EBFA;\n",
              "      box-shadow: 0px 1px 2px rgba(60, 64, 67, 0.3), 0px 1px 3px 1px rgba(60, 64, 67, 0.15);\n",
              "      fill: #174EA6;\n",
              "    }\n",
              "\n",
              "    [theme=dark] .colab-df-convert {\n",
              "      background-color: #3B4455;\n",
              "      fill: #D2E3FC;\n",
              "    }\n",
              "\n",
              "    [theme=dark] .colab-df-convert:hover {\n",
              "      background-color: #434B5C;\n",
              "      box-shadow: 0px 1px 3px 1px rgba(0, 0, 0, 0.15);\n",
              "      filter: drop-shadow(0px 1px 2px rgba(0, 0, 0, 0.3));\n",
              "      fill: #FFFFFF;\n",
              "    }\n",
              "  </style>\n",
              "\n",
              "      <script>\n",
              "        const buttonEl =\n",
              "          document.querySelector('#df-8d9b38da-b5f3-4a5e-8c2c-2b89f048fe2a button.colab-df-convert');\n",
              "        buttonEl.style.display =\n",
              "          google.colab.kernel.accessAllowed ? 'block' : 'none';\n",
              "\n",
              "        async function convertToInteractive(key) {\n",
              "          const element = document.querySelector('#df-8d9b38da-b5f3-4a5e-8c2c-2b89f048fe2a');\n",
              "          const dataTable =\n",
              "            await google.colab.kernel.invokeFunction('convertToInteractive',\n",
              "                                                     [key], {});\n",
              "          if (!dataTable) return;\n",
              "\n",
              "          const docLinkHtml = 'Like what you see? Visit the ' +\n",
              "            '<a target=\"_blank\" href=https://colab.research.google.com/notebooks/data_table.ipynb>data table notebook</a>'\n",
              "            + ' to learn more about interactive tables.';\n",
              "          element.innerHTML = '';\n",
              "          dataTable['output_type'] = 'display_data';\n",
              "          await google.colab.output.renderOutput(dataTable, element);\n",
              "          const docLink = document.createElement('div');\n",
              "          docLink.innerHTML = docLinkHtml;\n",
              "          element.appendChild(docLink);\n",
              "        }\n",
              "      </script>\n",
              "    </div>\n",
              "  </div>\n",
              "  "
            ]
          },
          "metadata": {},
          "execution_count": 198
        }
      ]
    },
    {
      "cell_type": "code",
      "source": [
        "newdata.describe()\n",
        "newdata.hist()"
      ],
      "metadata": {
        "colab": {
          "base_uri": "https://localhost:8080/",
          "height": 300
        },
        "id": "-gJ53CZUgy5d",
        "outputId": "2e571be7-3fbe-46fc-8af7-4241b6240331"
      },
      "execution_count": 199,
      "outputs": [
        {
          "output_type": "execute_result",
          "data": {
            "text/plain": [
              "             bet_id       bet_sum       bet_win  bet_win_real  possible_win  \\\n",
              "count  4.280000e+02    428.000000    428.000000    428.000000    428.000000   \n",
              "mean   1.050775e+09   5570.168224   5683.236449   5683.236449   9723.206846   \n",
              "std    6.374233e+08   4905.377583   7715.120737   7715.120737   7015.822711   \n",
              "min    5.273333e+06    100.000000      0.000000      0.000000    235.000000   \n",
              "25%    4.653508e+08   3000.000000      0.000000      0.000000   5455.000000   \n",
              "50%    1.019109e+09   5000.000000   3405.000000   3405.000000   8000.000000   \n",
              "75%    1.613468e+09   7000.000000   8430.000000   8430.000000  12037.500000   \n",
              "max    2.146338e+09  50000.000000  58500.000000  58500.000000  58500.000000   \n",
              "\n",
              "            coeff  \n",
              "count  428.000000  \n",
              "mean     2.261706  \n",
              "std      1.857955  \n",
              "min      1.080000  \n",
              "25%      1.400000  \n",
              "50%      1.650000  \n",
              "75%      2.112500  \n",
              "max     15.000000  "
            ],
            "text/html": [
              "\n",
              "  <div id=\"df-9e212fbd-d6bf-4bac-91f8-81d38bcb5950\">\n",
              "    <div class=\"colab-df-container\">\n",
              "      <div>\n",
              "<style scoped>\n",
              "    .dataframe tbody tr th:only-of-type {\n",
              "        vertical-align: middle;\n",
              "    }\n",
              "\n",
              "    .dataframe tbody tr th {\n",
              "        vertical-align: top;\n",
              "    }\n",
              "\n",
              "    .dataframe thead th {\n",
              "        text-align: right;\n",
              "    }\n",
              "</style>\n",
              "<table border=\"1\" class=\"dataframe\">\n",
              "  <thead>\n",
              "    <tr style=\"text-align: right;\">\n",
              "      <th></th>\n",
              "      <th>bet_id</th>\n",
              "      <th>bet_sum</th>\n",
              "      <th>bet_win</th>\n",
              "      <th>bet_win_real</th>\n",
              "      <th>possible_win</th>\n",
              "      <th>coeff</th>\n",
              "    </tr>\n",
              "  </thead>\n",
              "  <tbody>\n",
              "    <tr>\n",
              "      <th>count</th>\n",
              "      <td>4.280000e+02</td>\n",
              "      <td>428.000000</td>\n",
              "      <td>428.000000</td>\n",
              "      <td>428.000000</td>\n",
              "      <td>428.000000</td>\n",
              "      <td>428.000000</td>\n",
              "    </tr>\n",
              "    <tr>\n",
              "      <th>mean</th>\n",
              "      <td>1.050775e+09</td>\n",
              "      <td>5570.168224</td>\n",
              "      <td>5683.236449</td>\n",
              "      <td>5683.236449</td>\n",
              "      <td>9723.206846</td>\n",
              "      <td>2.261706</td>\n",
              "    </tr>\n",
              "    <tr>\n",
              "      <th>std</th>\n",
              "      <td>6.374233e+08</td>\n",
              "      <td>4905.377583</td>\n",
              "      <td>7715.120737</td>\n",
              "      <td>7715.120737</td>\n",
              "      <td>7015.822711</td>\n",
              "      <td>1.857955</td>\n",
              "    </tr>\n",
              "    <tr>\n",
              "      <th>min</th>\n",
              "      <td>5.273333e+06</td>\n",
              "      <td>100.000000</td>\n",
              "      <td>0.000000</td>\n",
              "      <td>0.000000</td>\n",
              "      <td>235.000000</td>\n",
              "      <td>1.080000</td>\n",
              "    </tr>\n",
              "    <tr>\n",
              "      <th>25%</th>\n",
              "      <td>4.653508e+08</td>\n",
              "      <td>3000.000000</td>\n",
              "      <td>0.000000</td>\n",
              "      <td>0.000000</td>\n",
              "      <td>5455.000000</td>\n",
              "      <td>1.400000</td>\n",
              "    </tr>\n",
              "    <tr>\n",
              "      <th>50%</th>\n",
              "      <td>1.019109e+09</td>\n",
              "      <td>5000.000000</td>\n",
              "      <td>3405.000000</td>\n",
              "      <td>3405.000000</td>\n",
              "      <td>8000.000000</td>\n",
              "      <td>1.650000</td>\n",
              "    </tr>\n",
              "    <tr>\n",
              "      <th>75%</th>\n",
              "      <td>1.613468e+09</td>\n",
              "      <td>7000.000000</td>\n",
              "      <td>8430.000000</td>\n",
              "      <td>8430.000000</td>\n",
              "      <td>12037.500000</td>\n",
              "      <td>2.112500</td>\n",
              "    </tr>\n",
              "    <tr>\n",
              "      <th>max</th>\n",
              "      <td>2.146338e+09</td>\n",
              "      <td>50000.000000</td>\n",
              "      <td>58500.000000</td>\n",
              "      <td>58500.000000</td>\n",
              "      <td>58500.000000</td>\n",
              "      <td>15.000000</td>\n",
              "    </tr>\n",
              "  </tbody>\n",
              "</table>\n",
              "</div>\n",
              "      <button class=\"colab-df-convert\" onclick=\"convertToInteractive('df-9e212fbd-d6bf-4bac-91f8-81d38bcb5950')\"\n",
              "              title=\"Convert this dataframe to an interactive table.\"\n",
              "              style=\"display:none;\">\n",
              "        \n",
              "  <svg xmlns=\"http://www.w3.org/2000/svg\" height=\"24px\"viewBox=\"0 0 24 24\"\n",
              "       width=\"24px\">\n",
              "    <path d=\"M0 0h24v24H0V0z\" fill=\"none\"/>\n",
              "    <path d=\"M18.56 5.44l.94 2.06.94-2.06 2.06-.94-2.06-.94-.94-2.06-.94 2.06-2.06.94zm-11 1L8.5 8.5l.94-2.06 2.06-.94-2.06-.94L8.5 2.5l-.94 2.06-2.06.94zm10 10l.94 2.06.94-2.06 2.06-.94-2.06-.94-.94-2.06-.94 2.06-2.06.94z\"/><path d=\"M17.41 7.96l-1.37-1.37c-.4-.4-.92-.59-1.43-.59-.52 0-1.04.2-1.43.59L10.3 9.45l-7.72 7.72c-.78.78-.78 2.05 0 2.83L4 21.41c.39.39.9.59 1.41.59.51 0 1.02-.2 1.41-.59l7.78-7.78 2.81-2.81c.8-.78.8-2.07 0-2.86zM5.41 20L4 18.59l7.72-7.72 1.47 1.35L5.41 20z\"/>\n",
              "  </svg>\n",
              "      </button>\n",
              "      \n",
              "  <style>\n",
              "    .colab-df-container {\n",
              "      display:flex;\n",
              "      flex-wrap:wrap;\n",
              "      gap: 12px;\n",
              "    }\n",
              "\n",
              "    .colab-df-convert {\n",
              "      background-color: #E8F0FE;\n",
              "      border: none;\n",
              "      border-radius: 50%;\n",
              "      cursor: pointer;\n",
              "      display: none;\n",
              "      fill: #1967D2;\n",
              "      height: 32px;\n",
              "      padding: 0 0 0 0;\n",
              "      width: 32px;\n",
              "    }\n",
              "\n",
              "    .colab-df-convert:hover {\n",
              "      background-color: #E2EBFA;\n",
              "      box-shadow: 0px 1px 2px rgba(60, 64, 67, 0.3), 0px 1px 3px 1px rgba(60, 64, 67, 0.15);\n",
              "      fill: #174EA6;\n",
              "    }\n",
              "\n",
              "    [theme=dark] .colab-df-convert {\n",
              "      background-color: #3B4455;\n",
              "      fill: #D2E3FC;\n",
              "    }\n",
              "\n",
              "    [theme=dark] .colab-df-convert:hover {\n",
              "      background-color: #434B5C;\n",
              "      box-shadow: 0px 1px 3px 1px rgba(0, 0, 0, 0.15);\n",
              "      filter: drop-shadow(0px 1px 2px rgba(0, 0, 0, 0.3));\n",
              "      fill: #FFFFFF;\n",
              "    }\n",
              "  </style>\n",
              "\n",
              "      <script>\n",
              "        const buttonEl =\n",
              "          document.querySelector('#df-9e212fbd-d6bf-4bac-91f8-81d38bcb5950 button.colab-df-convert');\n",
              "        buttonEl.style.display =\n",
              "          google.colab.kernel.accessAllowed ? 'block' : 'none';\n",
              "\n",
              "        async function convertToInteractive(key) {\n",
              "          const element = document.querySelector('#df-9e212fbd-d6bf-4bac-91f8-81d38bcb5950');\n",
              "          const dataTable =\n",
              "            await google.colab.kernel.invokeFunction('convertToInteractive',\n",
              "                                                     [key], {});\n",
              "          if (!dataTable) return;\n",
              "\n",
              "          const docLinkHtml = 'Like what you see? Visit the ' +\n",
              "            '<a target=\"_blank\" href=https://colab.research.google.com/notebooks/data_table.ipynb>data table notebook</a>'\n",
              "            + ' to learn more about interactive tables.';\n",
              "          element.innerHTML = '';\n",
              "          dataTable['output_type'] = 'display_data';\n",
              "          await google.colab.output.renderOutput(dataTable, element);\n",
              "          const docLink = document.createElement('div');\n",
              "          docLink.innerHTML = docLinkHtml;\n",
              "          element.appendChild(docLink);\n",
              "        }\n",
              "      </script>\n",
              "    </div>\n",
              "  </div>\n",
              "  "
            ]
          },
          "metadata": {},
          "execution_count": 199
        }
      ]
    },
    {
      "cell_type": "code",
      "source": [
        "newdata.coeff = newdata.coeff.astype(float)"
      ],
      "metadata": {
        "id": "zbixtBsghHF-"
      },
      "execution_count": 200,
      "outputs": []
    },
    {
      "cell_type": "code",
      "source": [
        "data.describe()"
      ],
      "metadata": {
        "colab": {
          "base_uri": "https://localhost:8080/",
          "height": 300
        },
        "id": "eQSnkq2nhiQ4",
        "outputId": "8e40703c-ec3f-4ae3-fecc-d69d0e4a57c4"
      },
      "execution_count": 212,
      "outputs": [
        {
          "output_type": "execute_result",
          "data": {
            "text/plain": [
              "             bet_id       bet_sum       bet_win  bet_win_real  possible_win  \\\n",
              "count  4.300000e+02    430.000000    430.000000    430.000000    430.000000   \n",
              "mean   1.045893e+09   5544.841860   5656.802791   5656.802791   9677.982628   \n",
              "std    6.399420e+08   4907.969005   7706.845634   7706.845634   7030.718002   \n",
              "min    9.145500e+05     50.000000      0.000000      0.000000      0.000000   \n",
              "25%    4.536664e+08   3000.000000      0.000000      0.000000   5410.000000   \n",
              "50%    1.016227e+09   5000.000000   3360.000000   3360.000000   7960.000000   \n",
              "75%    1.611522e+09   7000.000000   8400.000000   8400.000000  12000.000000   \n",
              "max    2.146338e+09  50000.000000  58500.000000  58500.000000  58500.000000   \n",
              "\n",
              "            coeff  \n",
              "count  430.000000  \n",
              "mean     2.251186  \n",
              "std      1.860011  \n",
              "min      0.000000  \n",
              "25%      1.400000  \n",
              "50%      1.650000  \n",
              "75%      2.100000  \n",
              "max     15.000000  "
            ],
            "text/html": [
              "\n",
              "  <div id=\"df-6c3fca3b-3252-48e6-8073-bf20d2c20c15\">\n",
              "    <div class=\"colab-df-container\">\n",
              "      <div>\n",
              "<style scoped>\n",
              "    .dataframe tbody tr th:only-of-type {\n",
              "        vertical-align: middle;\n",
              "    }\n",
              "\n",
              "    .dataframe tbody tr th {\n",
              "        vertical-align: top;\n",
              "    }\n",
              "\n",
              "    .dataframe thead th {\n",
              "        text-align: right;\n",
              "    }\n",
              "</style>\n",
              "<table border=\"1\" class=\"dataframe\">\n",
              "  <thead>\n",
              "    <tr style=\"text-align: right;\">\n",
              "      <th></th>\n",
              "      <th>bet_id</th>\n",
              "      <th>bet_sum</th>\n",
              "      <th>bet_win</th>\n",
              "      <th>bet_win_real</th>\n",
              "      <th>possible_win</th>\n",
              "      <th>coeff</th>\n",
              "    </tr>\n",
              "  </thead>\n",
              "  <tbody>\n",
              "    <tr>\n",
              "      <th>count</th>\n",
              "      <td>4.300000e+02</td>\n",
              "      <td>430.000000</td>\n",
              "      <td>430.000000</td>\n",
              "      <td>430.000000</td>\n",
              "      <td>430.000000</td>\n",
              "      <td>430.000000</td>\n",
              "    </tr>\n",
              "    <tr>\n",
              "      <th>mean</th>\n",
              "      <td>1.045893e+09</td>\n",
              "      <td>5544.841860</td>\n",
              "      <td>5656.802791</td>\n",
              "      <td>5656.802791</td>\n",
              "      <td>9677.982628</td>\n",
              "      <td>2.251186</td>\n",
              "    </tr>\n",
              "    <tr>\n",
              "      <th>std</th>\n",
              "      <td>6.399420e+08</td>\n",
              "      <td>4907.969005</td>\n",
              "      <td>7706.845634</td>\n",
              "      <td>7706.845634</td>\n",
              "      <td>7030.718002</td>\n",
              "      <td>1.860011</td>\n",
              "    </tr>\n",
              "    <tr>\n",
              "      <th>min</th>\n",
              "      <td>9.145500e+05</td>\n",
              "      <td>50.000000</td>\n",
              "      <td>0.000000</td>\n",
              "      <td>0.000000</td>\n",
              "      <td>0.000000</td>\n",
              "      <td>0.000000</td>\n",
              "    </tr>\n",
              "    <tr>\n",
              "      <th>25%</th>\n",
              "      <td>4.536664e+08</td>\n",
              "      <td>3000.000000</td>\n",
              "      <td>0.000000</td>\n",
              "      <td>0.000000</td>\n",
              "      <td>5410.000000</td>\n",
              "      <td>1.400000</td>\n",
              "    </tr>\n",
              "    <tr>\n",
              "      <th>50%</th>\n",
              "      <td>1.016227e+09</td>\n",
              "      <td>5000.000000</td>\n",
              "      <td>3360.000000</td>\n",
              "      <td>3360.000000</td>\n",
              "      <td>7960.000000</td>\n",
              "      <td>1.650000</td>\n",
              "    </tr>\n",
              "    <tr>\n",
              "      <th>75%</th>\n",
              "      <td>1.611522e+09</td>\n",
              "      <td>7000.000000</td>\n",
              "      <td>8400.000000</td>\n",
              "      <td>8400.000000</td>\n",
              "      <td>12000.000000</td>\n",
              "      <td>2.100000</td>\n",
              "    </tr>\n",
              "    <tr>\n",
              "      <th>max</th>\n",
              "      <td>2.146338e+09</td>\n",
              "      <td>50000.000000</td>\n",
              "      <td>58500.000000</td>\n",
              "      <td>58500.000000</td>\n",
              "      <td>58500.000000</td>\n",
              "      <td>15.000000</td>\n",
              "    </tr>\n",
              "  </tbody>\n",
              "</table>\n",
              "</div>\n",
              "      <button class=\"colab-df-convert\" onclick=\"convertToInteractive('df-6c3fca3b-3252-48e6-8073-bf20d2c20c15')\"\n",
              "              title=\"Convert this dataframe to an interactive table.\"\n",
              "              style=\"display:none;\">\n",
              "        \n",
              "  <svg xmlns=\"http://www.w3.org/2000/svg\" height=\"24px\"viewBox=\"0 0 24 24\"\n",
              "       width=\"24px\">\n",
              "    <path d=\"M0 0h24v24H0V0z\" fill=\"none\"/>\n",
              "    <path d=\"M18.56 5.44l.94 2.06.94-2.06 2.06-.94-2.06-.94-.94-2.06-.94 2.06-2.06.94zm-11 1L8.5 8.5l.94-2.06 2.06-.94-2.06-.94L8.5 2.5l-.94 2.06-2.06.94zm10 10l.94 2.06.94-2.06 2.06-.94-2.06-.94-.94-2.06-.94 2.06-2.06.94z\"/><path d=\"M17.41 7.96l-1.37-1.37c-.4-.4-.92-.59-1.43-.59-.52 0-1.04.2-1.43.59L10.3 9.45l-7.72 7.72c-.78.78-.78 2.05 0 2.83L4 21.41c.39.39.9.59 1.41.59.51 0 1.02-.2 1.41-.59l7.78-7.78 2.81-2.81c.8-.78.8-2.07 0-2.86zM5.41 20L4 18.59l7.72-7.72 1.47 1.35L5.41 20z\"/>\n",
              "  </svg>\n",
              "      </button>\n",
              "      \n",
              "  <style>\n",
              "    .colab-df-container {\n",
              "      display:flex;\n",
              "      flex-wrap:wrap;\n",
              "      gap: 12px;\n",
              "    }\n",
              "\n",
              "    .colab-df-convert {\n",
              "      background-color: #E8F0FE;\n",
              "      border: none;\n",
              "      border-radius: 50%;\n",
              "      cursor: pointer;\n",
              "      display: none;\n",
              "      fill: #1967D2;\n",
              "      height: 32px;\n",
              "      padding: 0 0 0 0;\n",
              "      width: 32px;\n",
              "    }\n",
              "\n",
              "    .colab-df-convert:hover {\n",
              "      background-color: #E2EBFA;\n",
              "      box-shadow: 0px 1px 2px rgba(60, 64, 67, 0.3), 0px 1px 3px 1px rgba(60, 64, 67, 0.15);\n",
              "      fill: #174EA6;\n",
              "    }\n",
              "\n",
              "    [theme=dark] .colab-df-convert {\n",
              "      background-color: #3B4455;\n",
              "      fill: #D2E3FC;\n",
              "    }\n",
              "\n",
              "    [theme=dark] .colab-df-convert:hover {\n",
              "      background-color: #434B5C;\n",
              "      box-shadow: 0px 1px 3px 1px rgba(0, 0, 0, 0.15);\n",
              "      filter: drop-shadow(0px 1px 2px rgba(0, 0, 0, 0.3));\n",
              "      fill: #FFFFFF;\n",
              "    }\n",
              "  </style>\n",
              "\n",
              "      <script>\n",
              "        const buttonEl =\n",
              "          document.querySelector('#df-6c3fca3b-3252-48e6-8073-bf20d2c20c15 button.colab-df-convert');\n",
              "        buttonEl.style.display =\n",
              "          google.colab.kernel.accessAllowed ? 'block' : 'none';\n",
              "\n",
              "        async function convertToInteractive(key) {\n",
              "          const element = document.querySelector('#df-6c3fca3b-3252-48e6-8073-bf20d2c20c15');\n",
              "          const dataTable =\n",
              "            await google.colab.kernel.invokeFunction('convertToInteractive',\n",
              "                                                     [key], {});\n",
              "          if (!dataTable) return;\n",
              "\n",
              "          const docLinkHtml = 'Like what you see? Visit the ' +\n",
              "            '<a target=\"_blank\" href=https://colab.research.google.com/notebooks/data_table.ipynb>data table notebook</a>'\n",
              "            + ' to learn more about interactive tables.';\n",
              "          element.innerHTML = '';\n",
              "          dataTable['output_type'] = 'display_data';\n",
              "          await google.colab.output.renderOutput(dataTable, element);\n",
              "          const docLink = document.createElement('div');\n",
              "          docLink.innerHTML = docLinkHtml;\n",
              "          element.appendChild(docLink);\n",
              "        }\n",
              "      </script>\n",
              "    </div>\n",
              "  </div>\n",
              "  "
            ]
          },
          "metadata": {},
          "execution_count": 212
        }
      ]
    },
    {
      "cell_type": "code",
      "source": [
        "data[data.status=='win'][\"coeff\"].hist(color=\"green\", legend=True)\n"
      ],
      "metadata": {
        "colab": {
          "base_uri": "https://localhost:8080/",
          "height": 282
        },
        "id": "8rTLL3GSiZee",
        "outputId": "d599a0ff-6dc5-4c48-8ef2-947ffeffab69"
      },
      "execution_count": 210,
      "outputs": [
        {
          "output_type": "execute_result",
          "data": {
            "text/plain": [
              "<matplotlib.axes._subplots.AxesSubplot at 0x7f6718f26290>"
            ]
          },
          "metadata": {},
          "execution_count": 210
        },
        {
          "output_type": "display_data",
          "data": {
            "text/plain": [
              "<Figure size 432x288 with 1 Axes>"
            ],
            "image/png": "[encoded data removed]"
          },
          "metadata": {
            "needs_background": "light"
          }
        }
      ]
    },
    {
      "cell_type": "code",
      "source": [
        "data[data.status=='loss'][\"coeff\"].hist(color=\"red\", legend=True)"
      ],
      "metadata": {
        "colab": {
          "base_uri": "https://localhost:8080/",
          "height": 282
        },
        "id": "5sHRnRYaxXhk",
        "outputId": "9ec3701b-381f-4c64-c109-2673469b3a12"
      },
      "execution_count": 211,
      "outputs": [
        {
          "output_type": "execute_result",
          "data": {
            "text/plain": [
              "<matplotlib.axes._subplots.AxesSubplot at 0x7f6718e71110>"
            ]
          },
          "metadata": {},
          "execution_count": 211
        },
        {
          "output_type": "display_data",
          "data": {
            "text/plain": [
              "<Figure size 432x288 with 1 Axes>"
            ],
            "image/png": "[encoded data removed]"
          },
          "metadata": {
            "needs_background": "light"
          }
        }
      ]
    },
    {
      "cell_type": "code",
      "source": [
        "import seaborn as sns"
      ],
      "metadata": {
        "id": "_lg2s1iOx-zX"
      },
      "execution_count": 213,
      "outputs": []
    },
    {
      "cell_type": "code",
      "source": [
        "print(data[data.status=='win'][data.coeff>2].shape)\n",
        "print(data[data.status=='loss'][data.coeff>2].shape)"
      ],
      "metadata": {
        "colab": {
          "base_uri": "https://localhost:8080/"
        },
        "id": "GOb337zy4k7-",
        "outputId": "6666177b-a997-497f-ceba-9161235eb547"
      },
      "execution_count": 294,
      "outputs": [
        {
          "output_type": "stream",
          "name": "stdout",
          "text": [
            "(23, 14)\n",
            "(96, 14)\n"
          ]
        },
        {
          "output_type": "stream",
          "name": "stderr",
          "text": [
            "/usr/local/lib/python3.7/dist-packages/ipykernel_launcher.py:1: UserWarning: Boolean Series key will be reindexed to match DataFrame index.\n",
            "  \"\"\"Entry point for launching an IPython kernel.\n",
            "/usr/local/lib/python3.7/dist-packages/ipykernel_launcher.py:2: UserWarning: Boolean Series key will be reindexed to match DataFrame index.\n",
            "  \n"
          ]
        }
      ]
    },
    {
      "cell_type": "markdown",
      "source": [
        "# При кэфе выше 2\n",
        "\n",
        "1.   119 из 430 ставок (0.276)\n",
        "2.   23 победы\n",
        "3. 96 поражений\n",
        "4. winrate = 0.193\n",
        "5. поставлено 225350\n",
        "6. выйграно 80500\n",
        "7. pure profit:  -144850 (-64.2% от банка)\n",
        "8. Сочнейший выйгранный кэф: 4 - Felt - Team DogChamp (+18к)\n",
        "9. Наибольшая сумма проеба - 5RATFORCESTAFF - KBU.US (-10к) NA DOTA KEKW\n",
        "\n",
        "\n",
        "\n"
      ],
      "metadata": {
        "id": "8h8qsTIY9uF3"
      }
    },
    {
      "cell_type": "code",
      "source": [
        "def winrateCalculator(firstCoeff, secondCoeff):\n",
        "  a = (data[data.status=='win'][data.coeff<=firstCoeff][data.coeff>=secondCoeff].shape)[0]\n",
        "  b = (data[data.status=='loss'][data.coeff<=firstCoeff][data.coeff>=secondCoeff].shape)[0]\n",
        "  c = a/(a+b)\n",
        "  return c\n"
      ],
      "metadata": {
        "id": "JHC2xMiu9ob3"
      },
      "execution_count": 323,
      "outputs": []
    },
    {
      "cell_type": "code",
      "source": [
        "winrateCalculator(10, 2)"
      ],
      "metadata": {
        "colab": {
          "base_uri": "https://localhost:8080/"
        },
        "id": "Jzg0Vb0JBaMM",
        "outputId": "e6435a75-b001-4e4a-96e3-672508bc09c4"
      },
      "execution_count": 347,
      "outputs": [
        {
          "output_type": "stream",
          "name": "stderr",
          "text": [
            "/usr/local/lib/python3.7/dist-packages/ipykernel_launcher.py:2: UserWarning: Boolean Series key will be reindexed to match DataFrame index.\n",
            "  \n",
            "/usr/local/lib/python3.7/dist-packages/ipykernel_launcher.py:3: UserWarning: Boolean Series key will be reindexed to match DataFrame index.\n",
            "  This is separate from the ipykernel package so we can avoid doing imports until\n"
          ]
        },
        {
          "output_type": "execute_result",
          "data": {
            "text/plain": [
              "0.2184873949579832"
            ]
          },
          "metadata": {},
          "execution_count": 347
        }
      ]
    },
    {
      "cell_type": "markdown",
      "source": [
        "#  *При кэфе ниже или равно 2* \n",
        "\n",
        "1.   308 из 430 ставок (0.71)\n",
        "2.   214 побед\n",
        "3. 94 поражений\n",
        "4. winrate = 0.7\n",
        "5. поставлено: 1.501.192\n",
        "6. выйграно: 2.196.075\n",
        "7. pure profit = 694883 (+46% от банка)\n",
        "8. Самый жирный профит 15120.0 - Xtreme Gaming - Vici Gaming (с детства за папараци)\n",
        "9. Наибольшая сумма проеба - 20000 goonsquad - Nigma Galaxy (ставил на продолжительность мапы, кэф был 1,32)\n",
        "10. Если ставить на кэфы до 1.4 вероятность победить стремится к 80% с 1.4 до 1.6 падает до 61%\n"
      ],
      "metadata": {
        "id": "2SgHqPdE-BwO"
      }
    },
    {
      "cell_type": "code",
      "source": [
        "def winrateCalculator(firstCoeff, secondCoeff):\n",
        "  #first>second\n",
        "  a = (data[data.status=='win'][data.coeff<=firstCoeff][data.coeff>=secondCoeff].shape)[0]\n",
        "  b = (data[data.status=='loss'][data.coeff<=firstCoeff][data.coeff>=secondCoeff].shape)[0]\n",
        "  c = a/(a+b)\n",
        "  return c\n"
      ],
      "metadata": {
        "id": "F_Djujw-CdB7"
      },
      "execution_count": 348,
      "outputs": []
    },
    {
      "cell_type": "code",
      "source": [
        "print(winrateCalculator(1.3, 1))\n",
        "print(winrateCalculator(1.4, 1.1))\n",
        "print(winrateCalculator(1.5, 1.2))\n",
        "print(winrateCalculator(1.6, 1.3))\n",
        "print(winrateCalculator(1.7, 1.4))\n",
        "print(winrateCalculator(1.8, 1.5))\n",
        "print(winrateCalculator(1.9, 1.6))\n",
        "print(winrateCalculator(2, 1.7))\n",
        "print(winrateCalculator(2.1, 1.8))"
      ],
      "metadata": {
        "colab": {
          "base_uri": "https://localhost:8080/"
        },
        "id": "pdWRjqNcCp-3",
        "outputId": "bf1ed5e2-1564-4ce3-fa62-1d5699b45386"
      },
      "execution_count": 365,
      "outputs": [
        {
          "output_type": "stream",
          "name": "stdout",
          "text": [
            "0.7966101694915254\n",
            "0.7964601769911505\n",
            "0.7857142857142857\n",
            "0.74\n",
            "0.6890756302521008\n",
            "0.6122448979591837\n",
            "0.5824175824175825\n",
            "0.573170731707317\n",
            "0.5070422535211268\n"
          ]
        },
        {
          "output_type": "stream",
          "name": "stderr",
          "text": [
            "/usr/local/lib/python3.7/dist-packages/ipykernel_launcher.py:2: UserWarning: Boolean Series key will be reindexed to match DataFrame index.\n",
            "  \n",
            "/usr/local/lib/python3.7/dist-packages/ipykernel_launcher.py:3: UserWarning: Boolean Series key will be reindexed to match DataFrame index.\n",
            "  This is separate from the ipykernel package so we can avoid doing imports until\n"
          ]
        }
      ]
    },
    {
      "cell_type": "code",
      "source": [
        "data.loc[147]"
      ],
      "metadata": {
        "colab": {
          "base_uri": "https://localhost:8080/"
        },
        "id": "5tvaXcijD2qb",
        "outputId": "09ac402a-301a-456f-b50a-d645bb49b568"
      },
      "execution_count": 410,
      "outputs": [
        {
          "output_type": "execute_result",
          "data": {
            "text/plain": [
              "bet_id                             677488219\n",
              "balance_type_win                       money\n",
              "bet_sum                                20000\n",
              "bet_win                                  0.0\n",
              "bet_win_real                             0.0\n",
              "possible_win                         26400.0\n",
              "result_dttm          2022-09-13T12:17:35.233\n",
              "status                                  loss\n",
              "event_name          goonsquad - Nigma Galaxy\n",
              "team_side_1_name                   goonsquad\n",
              "team_side_2_name                Nigma Galaxy\n",
              "type_name            Продолжительность карты\n",
              "coeff                                   1.32\n",
              "name                               Больше 36\n",
              "Name: 147, dtype: object"
            ]
          },
          "metadata": {},
          "execution_count": 410
        }
      ]
    },
    {
      "cell_type": "code",
      "source": [
        "(data[data.status=='loss'][data.coeff<=2].bet_win_real - data[data.status=='loss'][data.coeff<=2].bet_sum).nsmallest()"
      ],
      "metadata": {
        "colab": {
          "base_uri": "https://localhost:8080/"
        },
        "id": "IMuHqb5_FPr_",
        "outputId": "db76f632-4370-4800-b245-769f2ca74437"
      },
      "execution_count": 403,
      "outputs": [
        {
          "output_type": "stream",
          "name": "stderr",
          "text": [
            "/usr/local/lib/python3.7/dist-packages/ipykernel_launcher.py:1: UserWarning: Boolean Series key will be reindexed to match DataFrame index.\n",
            "  \"\"\"Entry point for launching an IPython kernel.\n"
          ]
        },
        {
          "output_type": "execute_result",
          "data": {
            "text/plain": [
              "147   -20000.0\n",
              "145   -15000.0\n",
              "28    -12000.0\n",
              "3     -10000.0\n",
              "47    -10000.0\n",
              "dtype: float64"
            ]
          },
          "metadata": {},
          "execution_count": 403
        }
      ]
    },
    {
      "cell_type": "code",
      "source": [
        "data[data.status=='win'][data.coeff<=2].bet_sum.nlargest()"
      ],
      "metadata": {
        "colab": {
          "base_uri": "https://localhost:8080/"
        },
        "id": "L_id01U5GCx9",
        "outputId": "f04cf4c4-2b20-4751-bf63-431ed43a0c3c"
      },
      "execution_count": 398,
      "outputs": [
        {
          "output_type": "stream",
          "name": "stderr",
          "text": [
            "/usr/local/lib/python3.7/dist-packages/ipykernel_launcher.py:1: UserWarning: Boolean Series key will be reindexed to match DataFrame index.\n",
            "  \"\"\"Entry point for launching an IPython kernel.\n"
          ]
        },
        {
          "output_type": "execute_result",
          "data": {
            "text/plain": [
              "276    50000\n",
              "56     36000\n",
              "421    30000\n",
              "428    30000\n",
              "258    24000\n",
              "Name: bet_sum, dtype: int64"
            ]
          },
          "metadata": {},
          "execution_count": 398
        }
      ]
    },
    {
      "cell_type": "code",
      "source": [
        "1-(80500 / 225350)"
      ],
      "metadata": {
        "colab": {
          "base_uri": "https://localhost:8080/"
        },
        "id": "Pe_eerUkHVf3",
        "outputId": "9fd3981e-9772-4ef7-8236-c7eaeb9b83aa"
      },
      "execution_count": 386,
      "outputs": [
        {
          "output_type": "execute_result",
          "data": {
            "text/plain": [
              "0.6427779010428223"
            ]
          },
          "metadata": {},
          "execution_count": 386
        }
      ]
    },
    {
      "cell_type": "code",
      "source": [],
      "metadata": {
        "id": "jXmMHUNpHplW"
      },
      "execution_count": null,
      "outputs": []
    }
  ]
}